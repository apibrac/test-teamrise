{
 "cells": [
  {
   "cell_type": "code",
   "execution_count": 210,
   "metadata": {
    "collapsed": false
   },
   "outputs": [],
   "source": [
    "from math import exp\n",
    "import re\n",
    "\n",
    "def vector_addition(*vectors):\n",
    "    '''Extends all vectors with zero so they have the shape of the biggest one, then add them'''\n",
    "    if not vectors:\n",
    "        return None\n",
    "    size = max(len(v) for v in vectors)\n",
    "    for v in vectors :\n",
    "        v += [0]*(size-len(v))\n",
    "    return [sum(v) for v in zip(*vectors)]\n",
    "\n",
    "def extend_vector(v, n):\n",
    "    '''Extend a vector to have the n first dimensions empty'''\n",
    "    return [0]*n+v\n",
    "\n",
    "def extract_numbers_and_symbols(objective):\n",
    "    '''Extract numbers and symbols of objective'''\n",
    "    out = dict()\n",
    "    numbers = re.findall(r'\\d+', objective)\n",
    "    symbols = [s for s in ['%', '$', '€'] if s in objective]\n",
    "    if len(numbers) == 1 :\n",
    "        out['progress_target'] = numbers[0]\n",
    "    elif numbers  :\n",
    "        out['numbers'] = numbers\n",
    "    if len(symbols) == 1:\n",
    "        out['progress_unit'] = symbols[0]\n",
    "    elif symboles :\n",
    "        out['symbols'] = symbols\n",
    "    return out\n",
    "\n",
    "class Objective_Analyzer():\n",
    "    '''Analyze an objective in order to extract characteristics\n",
    "    Use the logistic regression.\n",
    "    Rewritten in order to be able to manually set some coefficients.\n",
    "    '''\n",
    "    def __init__(self, additional_functions = []):\n",
    "        '''Empty'''\n",
    "        self.conclusions = []\n",
    "        self.subgroups = [] # for s in subgroups : s['conclusions']=list of positions of corresponding conclusions\n",
    "        self.parameters = dict()\n",
    "        self.additional_functions = additional_functions\n",
    "    def prepare_sentence(self, sentence_in_string):\n",
    "        '''Split a sentence in a list of words.\n",
    "        For now it is very simple but it can be improved to treat numbers, symbols etc.\n",
    "        '''\n",
    "        return sentence_in_string.split()\n",
    "    def compute_vector(self, sentence):\n",
    "        '''Compute the vector for a sentence.'''\n",
    "        return vector_addition(*[self.parameters.get(word, []) for word in sentence])\n",
    "    def decisions(self, vector):\n",
    "        '''Draw conclusions from the vector of a sentence.'''\n",
    "        out=[]\n",
    "        if not vector:\n",
    "            return None\n",
    "        vector = [exp(v) for v in vector+[0]*(len(self.conclusions)-len(vector))] # for the use of the logistic regression, but is useless here\n",
    "        for subg in self.subgroups :\n",
    "            choice = self.take_best(*[(vector[i],i) for i in subg['conclusions']])\n",
    "            if choice is not None :\n",
    "                out.append(self.conclusions[choice])\n",
    "        return out\n",
    "    def take_best(self, *args):\n",
    "        '''Brutal decision :\n",
    "        take the best one.\n",
    "        '''\n",
    "        M = max(args)\n",
    "        for v in args :\n",
    "            if v[0] == M[0] and v!=M :#it's a tie\n",
    "                return None\n",
    "        return M[1]\n",
    "    def analyze(self, sentence_in_string):\n",
    "        '''Analyse a sentence (=objective)'''\n",
    "        out = {'characteristics':self.decisions(self.compute_vector(self.prepare_sentence(sentence_in_string)))}\n",
    "        for f in self.additional_functions :\n",
    "            out.update(f(sentence_in_string))\n",
    "        return out\n",
    "    def add_words_with_weight(self, words, weight_vector, rank=0):\n",
    "        '''Add words and the corresponding weight. \n",
    "        Rank is used if the weighted vector is set only for one characteristic that is not the first.\n",
    "        '''\n",
    "        vector = extend_vector(weight_vector, rank)\n",
    "        assert len(vector) <= len(self.conclusions), 'Too many weights for {} : {}'.format(words, vector)\n",
    "        for word in words:\n",
    "            if word in self.parameters :\n",
    "                self.parameters[word] = vector_addition(self.parameters[word], vector)\n",
    "            else :\n",
    "                self.parameters[word] = vector\n",
    "    def add_to_guess(self, guess_conclusions, **kwargs):\n",
    "        '''Add new conclusions in a cluster (exclusive).\n",
    "        Additional arguments are stored in the cluster dictionary, can be used later for different kind of clusters?\n",
    "        Return the rank (that can be used to add words).\n",
    "        '''\n",
    "        rank = len(self.conclusions)\n",
    "        self.conclusions+=guess_conclusions\n",
    "        self.subgroups.append(dict(conclusions = [rank + i  for i in range(len(guess_conclusions))], **kwargs))\n",
    "        return rank\n",
    "        \n"
   ]
  },
  {
   "cell_type": "code",
   "execution_count": 211,
   "metadata": {
    "collapsed": false
   },
   "outputs": [],
   "source": [
    "recurrence = Objective_Analyzer(additional_functions=[extract_numbers_and_symbols])"
   ]
  },
  {
   "cell_type": "code",
   "execution_count": 212,
   "metadata": {
    "collapsed": false
   },
   "outputs": [
    {
     "name": "stdout",
     "output_type": "stream",
     "text": [
      "0\n"
     ]
    }
   ],
   "source": [
    "rank = recurrence.add_to_guess(['reccurent', 'not recurrent'])\n",
    "recurrence.add_words_with_weight(['every'],[1,0], rank)\n",
    "recurrence.add_words_with_weight(['once'],[0,1], rank)\n",
    "recurrence.add_words_with_weight(['frequent','intermittent', 'periodic',\n",
    "                                  'recurring', 'repeated', 'repetitive'],[1,0], rank)\n",
    "recurrence.add_words_with_weight(['alternate', 'chain', 'continued', 'cyclical', 'habitual', 'isochronal', \n",
    "                                  'isochronous', 'periodical', 'regular', 'reoccurring', 'rolling'],[0.5,0], rank)\n",
    "print(rank)"
   ]
  },
  {
   "cell_type": "code",
   "execution_count": 213,
   "metadata": {
    "collapsed": false
   },
   "outputs": [
    {
     "name": "stdout",
     "output_type": "stream",
     "text": [
      "2\n"
     ]
    }
   ],
   "source": [
    "rank = recurrence.add_to_guess(['positive', 'negative'])\n",
    "recurrence.add_words_with_weight(['more', 'plus','also',\n",
    " 'extra',\n",
    " 'further',\n",
    " 'higher',\n",
    " 'new',\n",
    " 'other',\n",
    " 'major',\n",
    " 'spare',\n",
    " 'added',\n",
    " 'aggrandized',\n",
    " 'amassed',\n",
    " 'and',\n",
    " 'another',\n",
    " 'augmented',\n",
    " 'besides',\n",
    " 'bounteous',\n",
    " 'deeper',\n",
    " 'else',\n",
    " 'enhanced',\n",
    " 'exceeding',\n",
    " 'expanded',\n",
    " 'extended',\n",
    " 'farther',\n",
    " 'fresh',\n",
    " 'heavier'],[1,0], rank)\n",
    "recurrence.add_words_with_weight(['less', 'minus'],[0,1], rank)\n",
    "print(rank)"
   ]
  },
  {
   "cell_type": "code",
   "execution_count": 214,
   "metadata": {
    "collapsed": false
   },
   "outputs": [
    {
     "name": "stdout",
     "output_type": "stream",
     "text": [
      "{'characteristics': ['reccurent', 'negative'], 'progress_unit': '%', 'progress_target': '20'}\n"
     ]
    }
   ],
   "source": [
    "print(recurrence.analyze('20% more leads conversion every month'))"
   ]
  },
  {
   "cell_type": "code",
   "execution_count": null,
   "metadata": {
    "collapsed": true
   },
   "outputs": [],
   "source": []
  }
 ],
 "metadata": {
  "kernelspec": {
   "display_name": "Python 3",
   "language": "python",
   "name": "python3"
  },
  "language_info": {
   "codemirror_mode": {
    "name": "ipython",
    "version": 3
   },
   "file_extension": ".py",
   "mimetype": "text/x-python",
   "name": "python",
   "nbconvert_exporter": "python",
   "pygments_lexer": "ipython3",
   "version": "3.5.1"
  }
 },
 "nbformat": 4,
 "nbformat_minor": 0
}
