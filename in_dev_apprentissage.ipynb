{
 "cells": [
  {
   "cell_type": "code",
   "execution_count": 2,
   "metadata": {
    "collapsed": false
   },
   "outputs": [],
   "source": [
    "def vector_addition(*vectors):\n",
    "    '''Extends all vectors with zero so they have the shape of the biggest one, then add them'''\n",
    "    if not vectors:\n",
    "        return None\n",
    "    size = max(len(v) for v in vectors)\n",
    "    for v in vectors :\n",
    "        v += [0]*(size-len(v))\n",
    "    return [sum(v) for v in zip(*vectors)]\n",
    "\n",
    "def extend_vector(v, n):\n",
    "    return [0]*n+v\n",
    "\n",
    "class Objective_Analyzer():\n",
    "    def __init__(self):\n",
    "        self.conclusions=[]\n",
    "        self.parameters=dict()\n",
    "    def compute_vector(self, sentence):\n",
    "        return vector_addition(*[self.parameters[word] for word in sentence if word in self.parameters])\n",
    "    def take_decision(self, vector):\n",
    "        #TO BE CHANGED\n",
    "        if not vector:\n",
    "            return None\n",
    "        return self.conclusions[vector.index(max(vector))]\n",
    "    def analyze(self, sentence_in_string):\n",
    "        return self.take_decision(self.compute_vector(self.prepare_sentence(sentence_in_string)))\n",
    "    def prepare_sentence(self, sentence_in_string):\n",
    "        return sentence_in_string.split()\n",
    "    def add_words_and_weights(self, words, weight_vectors, rank=0):\n",
    "        for word, vector in zip(words, weight_vectors):\n",
    "            assert len(vector)+rank <= len(self.conclusions), 'Too many weights for {} : {}'.format(word, vector)\n",
    "            if word in self.parameters :\n",
    "                self.parameters[word]=vector_addition(self.parameters[word], extend_vector(vector, rank))\n",
    "            else :\n",
    "                self.parameters[word]=extend_vector(vector, rank)\n",
    "    def add_to_guess(self, guess_conclusions, words_weights=None): #TO COMPLETE\n",
    "        #self.add_words_and_weights()#....\n",
    "        self.conclusions+=guess_conclusions\n",
    "        "
   ]
  },
  {
   "cell_type": "code",
   "execution_count": 3,
   "metadata": {
    "collapsed": false
   },
   "outputs": [],
   "source": [
    "recurrence=Objective_Analyzer()"
   ]
  },
  {
   "cell_type": "code",
   "execution_count": 4,
   "metadata": {
    "collapsed": false
   },
   "outputs": [],
   "source": [
    "recurrence.add_to_guess(['reccurent', 'not recurrent'])"
   ]
  },
  {
   "cell_type": "code",
   "execution_count": 5,
   "metadata": {
    "collapsed": false
   },
   "outputs": [],
   "source": [
    "recurrence.add_words_and_weights(['every','once'],[[1,0],[0,1]])"
   ]
  },
  {
   "cell_type": "code",
   "execution_count": 6,
   "metadata": {
    "collapsed": false
   },
   "outputs": [],
   "source": [
    "recurrence.add_words_and_weights(['frequent','intermittent', 'periodic',\n",
    "                                  'recurring', 'repeated', 'repetitive', 'alternate', 'chain',\n",
    "                                  'continued', 'cyclical', 'habitual', 'isochronal', 'isochronous',\n",
    "                                  'periodical', 'regular', 'reoccurring', 'rolling'],\n",
    "                                 [[1,0] for _ in range(6)]+[[0.5,0] for _ in range(11)])"
   ]
  },
  {
   "cell_type": "code",
   "execution_count": 7,
   "metadata": {
    "collapsed": false
   },
   "outputs": [
    {
     "name": "stdout",
     "output_type": "stream",
     "text": [
      "not recurrent\n"
     ]
    }
   ],
   "source": [
    "print(recurrence.analyze('actualize API once'))"
   ]
  },
  {
   "cell_type": "code",
   "execution_count": null,
   "metadata": {
    "collapsed": true
   },
   "outputs": [],
   "source": []
  }
 ],
 "metadata": {
  "kernelspec": {
   "display_name": "Python 3",
   "language": "python",
   "name": "python3"
  },
  "language_info": {
   "codemirror_mode": {
    "name": "ipython",
    "version": 3
   },
   "file_extension": ".py",
   "mimetype": "text/x-python",
   "name": "python",
   "nbconvert_exporter": "python",
   "pygments_lexer": "ipython3",
   "version": "3.5.1"
  }
 },
 "nbformat": 4,
 "nbformat_minor": 0
}
