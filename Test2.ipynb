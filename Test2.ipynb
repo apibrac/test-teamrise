{
 "cells": [
  {
   "cell_type": "code",
   "execution_count": 10,
   "metadata": {
    "collapsed": false
   },
   "outputs": [],
   "source": [
    "# Import the package\n",
    "from test_teamrise.logistic_regression import Objective_Analyzer, extract_numbers_and_symbols"
   ]
  },
  {
   "cell_type": "code",
   "execution_count": 11,
   "metadata": {
    "collapsed": true
   },
   "outputs": [],
   "source": [
    "# Create the object\n",
    "analyzer = Objective_Analyzer()"
   ]
  },
  {
   "cell_type": "code",
   "execution_count": 12,
   "metadata": {
    "collapsed": true
   },
   "outputs": [],
   "source": [
    "# add target and unit extractor\n",
    "analyzer.additional_functions.append(extract_numbers_and_symbols)"
   ]
  },
  {
   "cell_type": "code",
   "execution_count": 13,
   "metadata": {
    "collapsed": false
   },
   "outputs": [],
   "source": [
    "# Calibrate the recurrence analyzer\n",
    "rank = analyzer.add_to_guess(['reccurent', 'not recurrent'])\n",
    "analyzer.add_words_with_weight(['every'],[1,0], rank)\n",
    "analyzer.add_words_with_weight(['once'],[0,1], rank)\n",
    "analyzer.add_words_with_weight(['frequent','intermittent', 'periodic',\n",
    "                                  'recurring', 'repeated', 'repetitive'],[1,0], rank)\n",
    "analyzer.add_words_with_weight(['alternate', 'chain', 'continued', 'cyclical', 'habitual', 'isochronal', \n",
    "                                  'isochronous', 'periodical', 'regular', 'reoccurring', 'rolling'],[0.5,0], rank)"
   ]
  },
  {
   "cell_type": "code",
   "execution_count": 14,
   "metadata": {
    "collapsed": false
   },
   "outputs": [],
   "source": [
    "# Calibrate the positive/negative anbalyzer\n",
    "rank = analyzer.add_to_guess(['positive', 'negative'])\n",
    "analyzer.add_words_with_weight(['more', 'plus','also',\n",
    " 'extra',\n",
    " 'further',\n",
    " 'higher',\n",
    " 'new',\n",
    " 'other',\n",
    " 'major',\n",
    " 'spare',\n",
    " 'added',\n",
    " 'aggrandized',\n",
    " 'amassed',\n",
    " 'and',\n",
    " 'another',\n",
    " 'augmented',\n",
    " 'besides',\n",
    " 'bounteous',\n",
    " 'deeper',\n",
    " 'else',\n",
    " 'enhanced',\n",
    " 'exceeding',\n",
    " 'expanded',\n",
    " 'extended',\n",
    " 'farther',\n",
    " 'fresh',\n",
    " 'heavier'],[1,0], rank)\n",
    "analyzer.add_words_with_weight(['less', 'minus'],[0,1], rank)"
   ]
  },
  {
   "cell_type": "code",
   "execution_count": 16,
   "metadata": {
    "collapsed": false
   },
   "outputs": [
    {
     "name": "stdout",
     "output_type": "stream",
     "text": [
      "{'characteristics': ['reccurent', 'positive'], 'progress_target': '20', 'progress_unit': '%'}\n"
     ]
    }
   ],
   "source": [
    "# Execution !\n",
    "print(analyzer.analyze('20% more leads conversion every month'))"
   ]
  },
  {
   "cell_type": "code",
   "execution_count": null,
   "metadata": {
    "collapsed": true
   },
   "outputs": [],
   "source": []
  }
 ],
 "metadata": {
  "kernelspec": {
   "display_name": "Python 3",
   "language": "python",
   "name": "python3"
  },
  "language_info": {
   "codemirror_mode": {
    "name": "ipython",
    "version": 3
   },
   "file_extension": ".py",
   "mimetype": "text/x-python",
   "name": "python",
   "nbconvert_exporter": "python",
   "pygments_lexer": "ipython3",
   "version": "3.5.1"
  }
 },
 "nbformat": 4,
 "nbformat_minor": 0
}
