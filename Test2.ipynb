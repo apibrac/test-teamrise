{
 "cells": [
  {
   "cell_type": "code",
   "execution_count": 1,
   "metadata": {
    "collapsed": false
   },
   "outputs": [],
   "source": [
    "# Import the package\n",
    "from test_teamrise.logistic_regression import Objective_Analyzer, extract_numbers_and_symbols"
   ]
  },
  {
   "cell_type": "code",
   "execution_count": 2,
   "metadata": {
    "collapsed": true
   },
   "outputs": [],
   "source": [
    "# Create the object\n",
    "model = Objective_Analyzer()"
   ]
  },
  {
   "cell_type": "code",
   "execution_count": 3,
   "metadata": {
    "collapsed": true
   },
   "outputs": [],
   "source": [
    "# add target and unit extractor\n",
    "model.additional_functions.append(extract_numbers_and_symbols)"
   ]
  },
  {
   "cell_type": "code",
   "execution_count": 4,
   "metadata": {
    "collapsed": false
   },
   "outputs": [
    {
     "data": {
      "text/plain": [
       "0"
      ]
     },
     "execution_count": 4,
     "metadata": {},
     "output_type": "execute_result"
    }
   ],
   "source": [
    "# Calibrate the recurrence analyzer (with files of words)\n",
    "model.add_to_guess(['recurent', 'not recurrent'], ['data/recurrent.txt','data/not_recurrent.txt'])"
   ]
  },
  {
   "cell_type": "code",
   "execution_count": 5,
   "metadata": {
    "collapsed": false
   },
   "outputs": [],
   "source": [
    "# Calibrate the positive/negative anbalyzer (manually)\n",
    "rank = model.add_to_guess(['positive', 'negative'])\n",
    "model.add_words_with_weight(['more', 'plus','also', 'extra', 'further', 'higher', 'new', 'other', 'major', 'spare', 'added',\n",
    "                            'aggrandized', 'amassed', 'and', 'another', 'augmented', 'besides', 'bounteous', 'deeper', 'else',\n",
    "                            'enhanced', 'exceeding','expanded','extended','farther','fresh','heavier'],\n",
    "                            [1,0], rank)\n",
    "model.add_words_with_weight(['less', 'minus','smaller', 'inferior', 'fewer', 'lesser', 'limited', 'lower', 'minor', 'minus', \n",
    "                             'negative', 'secondary', 'subordinate', 'beneath', 'declined', 'deficient', 'depressed', 'diminished', \n",
    "                             'excepting', 'lacking', 'reduced', 'shortened', 'shorter', 'slighter', 'subtracting', 'unsubstantial'],\n",
    "                            [0,1], rank)"
   ]
  },
  {
   "cell_type": "code",
   "execution_count": 6,
   "metadata": {
    "collapsed": false
   },
   "outputs": [
    {
     "name": "stdout",
     "output_type": "stream",
     "text": [
      "{'progress_unit': '%', 'characteristics': ['recurent', 'positive'], 'progress_target': '20'}\n"
     ]
    }
   ],
   "source": [
    "# Execution !\n",
    "print(model.analyze('20% more leads conversion every month'))"
   ]
  },
  {
   "cell_type": "code",
   "execution_count": null,
   "metadata": {
    "collapsed": true
   },
   "outputs": [],
   "source": []
  }
 ],
 "metadata": {
  "kernelspec": {
   "display_name": "Python 3",
   "language": "python",
   "name": "python3"
  },
  "language_info": {
   "codemirror_mode": {
    "name": "ipython",
    "version": 3
   },
   "file_extension": ".py",
   "mimetype": "text/x-python",
   "name": "python",
   "nbconvert_exporter": "python",
   "pygments_lexer": "ipython3",
   "version": "3.5.1"
  }
 },
 "nbformat": 4,
 "nbformat_minor": 0
}
