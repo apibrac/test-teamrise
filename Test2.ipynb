{
 "cells": [
  {
   "cell_type": "markdown",
   "metadata": {},
   "source": [
    "Solution du test n'2 :\n",
    "\n",
    "Le modèle d'apprentissage choisi est la regression logistique.\n",
    "\n",
    "Ce modèle attribut des poids à certains mots-clès en fonctions des concepts qu'il doit évaluer. En fonction de la présence de ces mots dans une phrase (un objectif) et de ces différents poids, différentes valeurs sont obtenue pour cette même phrase pour chacun des concepts. Après un passage à l'exponentielle et une normalisation, on obtient une note (ou probabilité) que cette phrase présente chacun des concepts.\n",
    "\n",
    "Une fonction de décision choisit alors la réponse finale en fonction de ces notes.7\n",
    "\n",
    "Ce modèle se calibre en maximisant le log-vraisemblance d'un dataset grâce à l'algorithme de la descente de gradient.\n",
    "\n",
    "Etant donné qu'aucune base de donnée suffisante n'ait été trouvée, nous commençons par fixer les paramètres arbitrairement.\n",
    "Pour permettre cela (vu que les module classique possèdant la regression linéaire ne proposent en général pas cette fonctionalité), le modèle a été re-codé en entier (dans le module 'test_teamrise.logistic_regression')"
   ]
  },
  {
   "cell_type": "code",
   "execution_count": 1,
   "metadata": {
    "collapsed": false
   },
   "outputs": [],
   "source": [
    "# Importation du module :\n",
    "from test_teamrise.logistic_regression import Objective_Analyzer, extract_numbers_and_symbols"
   ]
  },
  {
   "cell_type": "code",
   "execution_count": 2,
   "metadata": {
    "collapsed": true
   },
   "outputs": [],
   "source": [
    "# Création du modèle (vierge)\n",
    "model = Objective_Analyzer()"
   ]
  },
  {
   "cell_type": "markdown",
   "metadata": {},
   "source": [
    "La detection de symbols tels que $ ou \\% ainsi que des nombre ne nécéssitent pas d'apprentissage : une fonction déterministe peut le faire.\n",
    "\n",
    "C'est pourquoi le modèle peut intégrer different fonctions déterministes pour calculer et renvoyer ce genre de résultat."
   ]
  },
  {
   "cell_type": "code",
   "execution_count": 3,
   "metadata": {
    "collapsed": true
   },
   "outputs": [],
   "source": [
    "# Ajout de la fonction d'extraction de nombres et de symboles\n",
    "model.additional_functions.append(extract_numbers_and_symbols)"
   ]
  },
  {
   "cell_type": "markdown",
   "metadata": {},
   "source": [
    "Pour permettre de stocker les mots utilisés et constituer de grande banque de données, le modèle peut directement lire des fichiers et absorber les mots qu'ils contiennent.\n",
    "\n",
    "Ici nous le faisons avec le concept de récurrence : les mots qui s'y rattachent sont stockés dans recurrent.txt ou not_recurrent.txt ."
   ]
  },
  {
   "cell_type": "code",
   "execution_count": 4,
   "metadata": {
    "collapsed": false
   },
   "outputs": [
    {
     "data": {
      "text/plain": [
       "0"
      ]
     },
     "execution_count": 4,
     "metadata": {},
     "output_type": "execute_result"
    }
   ],
   "source": [
    "# Calibrate the recurrence analyzer (with files of words)\n",
    "model.add_to_guess(['recurent', 'not recurrent'], ['data/recurrent.txt','data/not_recurrent.txt'])"
   ]
  },
  {
   "cell_type": "markdown",
   "metadata": {},
   "source": [
    "Le modèle peut aussi être directment calibré (ou complété) à la main en ajoutant des listes de mots."
   ]
  },
  {
   "cell_type": "code",
   "execution_count": 5,
   "metadata": {
    "collapsed": false
   },
   "outputs": [],
   "source": [
    "# Calibrate the positive/negative anbalyzer (manually)\n",
    "rank = model.add_to_guess(['positive', 'negative'])\n",
    "model.add_words_with_weight(['more', 'plus','also', 'extra', 'further', 'higher', 'new', 'other', 'major', 'spare', 'added',\n",
    "                            'aggrandized', 'amassed', 'and', 'another', 'augmented', 'besides', 'bounteous', 'deeper', 'else',\n",
    "                            'enhanced', 'exceeding','expanded','extended','farther','fresh','heavier'],\n",
    "                            [1,0], rank)\n",
    "model.add_words_with_weight(['less', 'minus','smaller', 'inferior', 'fewer', 'lesser', 'limited', 'lower', 'minor', 'minus', \n",
    "                             'negative', 'secondary', 'subordinate', 'beneath', 'declined', 'deficient', 'depressed', 'diminished', \n",
    "                             'excepting', 'lacking', 'reduced', 'shortened', 'shorter', 'slighter', 'subtracting', 'unsubstantial'],\n",
    "                            [0,1], rank)"
   ]
  },
  {
   "cell_type": "markdown",
   "metadata": {},
   "source": [
    "Une fois calibré le modèle peut être utilisé avec la fonction 'analyze'"
   ]
  },
  {
   "cell_type": "code",
   "execution_count": 6,
   "metadata": {
    "collapsed": false
   },
   "outputs": [
    {
     "data": {
      "text/plain": [
       "{'characteristics': ['recurent', 'positive'],\n",
       " 'progress_target': '20',\n",
       " 'progress_unit': '%'}"
      ]
     },
     "execution_count": 6,
     "metadata": {},
     "output_type": "execute_result"
    }
   ],
   "source": [
    "# Execution !\n",
    "model.analyze('20% more leads conversion every month')"
   ]
  },
  {
   "cell_type": "code",
   "execution_count": null,
   "metadata": {
    "collapsed": true
   },
   "outputs": [],
   "source": []
  }
 ],
 "metadata": {
  "kernelspec": {
   "display_name": "Python 3",
   "language": "python",
   "name": "python3"
  },
  "language_info": {
   "codemirror_mode": {
    "name": "ipython",
    "version": 3
   },
   "file_extension": ".py",
   "mimetype": "text/x-python",
   "name": "python",
   "nbconvert_exporter": "python",
   "pygments_lexer": "ipython3",
   "version": "3.5.1"
  }
 },
 "nbformat": 4,
 "nbformat_minor": 0
}
